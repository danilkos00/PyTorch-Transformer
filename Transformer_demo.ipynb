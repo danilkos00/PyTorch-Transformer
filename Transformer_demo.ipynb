{
  "metadata": {
    "kernelspec": {
      "name": "python3",
      "display_name": "Python 3",
      "language": "python"
    },
    "language_info": {
      "name": "python",
      "version": "3.11.11",
      "mimetype": "text/x-python",
      "codemirror_mode": {
        "name": "ipython",
        "version": 3
      },
      "pygments_lexer": "ipython3",
      "nbconvert_exporter": "python",
      "file_extension": ".py"
    },
    "colab": {
      "provenance": [],
      "gpuType": "T4"
    },
    "accelerator": "GPU",
    "kaggle": {
      "accelerator": "gpu",
      "dataSources": [
        {
          "sourceId": 12080005,
          "sourceType": "datasetVersion",
          "datasetId": 7604456
        }
      ],
      "dockerImageVersionId": 31041,
      "isInternetEnabled": true,
      "language": "python",
      "sourceType": "notebook",
      "isGpuEnabled": true
    }
  },
  "nbformat_minor": 0,
  "nbformat": 4,
  "cells": [
    {
      "cell_type": "code",
      "source": [
        "!git clone https://github.com/danilkos00/PyTorch-Transformer.git -qq\n",
        "\n",
        "%cd PyTorch-Transformer\n",
        "\n",
        "!pip install jaxtyping -qq"
      ],
      "metadata": {
        "colab": {
          "base_uri": "https://localhost:8080/"
        },
        "id": "eixpNcTdDaxk",
        "outputId": "3d7f9189-d8f6-4134-e45d-da4b0beeece5",
        "trusted": true,
        "execution": {
          "iopub.status.busy": "2025-06-26T09:57:56.463550Z",
          "iopub.execute_input": "2025-06-26T09:57:56.463744Z",
          "iopub.status.idle": "2025-06-26T09:57:57.256372Z",
          "shell.execute_reply.started": "2025-06-26T09:57:56.463721Z",
          "shell.execute_reply": "2025-06-26T09:57:57.255671Z"
        }
      },
      "outputs": [
        {
          "output_type": "stream",
          "name": "stdout",
          "text": [
            "/content/PyTorch-Transformer\n",
            "\u001b[2K   \u001b[90m━━━━━━━━━━━━━━━━━━━━━━━━━━━━━━━━━━━━━━━━\u001b[0m \u001b[32m55.4/55.4 kB\u001b[0m \u001b[31m5.2 MB/s\u001b[0m eta \u001b[36m0:00:00\u001b[0m\n",
            "\u001b[?25h"
          ]
        }
      ],
      "execution_count": 1
    },
    {
      "cell_type": "code",
      "source": [
        "import gdown\n",
        "\n",
        "\n",
        "params_url = 'https://drive.google.com/uc?id=1-L881Atoagz_0AXnwcKI28ZcWjq6NUy8'\n",
        "output_path = './ts_checkpoint.tar'\n",
        "gdown.download(params_url, output_path, quiet=True)"
      ],
      "metadata": {
        "trusted": true,
        "execution": {
          "iopub.status.busy": "2025-06-26T10:11:11.848960Z",
          "iopub.execute_input": "2025-06-26T10:11:11.849843Z",
          "iopub.status.idle": "2025-06-26T10:11:16.612078Z",
          "shell.execute_reply.started": "2025-06-26T10:11:11.849813Z",
          "shell.execute_reply": "2025-06-26T10:11:16.611466Z"
        },
        "colab": {
          "base_uri": "https://localhost:8080/",
          "height": 36
        },
        "id": "cCJGNJtLxNKe",
        "outputId": "3466c7f9-39cd-44a0-c4c0-956adda47aed"
      },
      "outputs": [
        {
          "output_type": "execute_result",
          "data": {
            "text/plain": [
              "'./ts_checkpoint.tar'"
            ],
            "application/vnd.google.colaboratory.intrinsic+json": {
              "type": "string"
            }
          },
          "metadata": {},
          "execution_count": 2
        }
      ],
      "execution_count": 2
    },
    {
      "cell_type": "code",
      "source": [
        "from data.dataset import load_dataset\n",
        "\n",
        "train_path, val_path = load_dataset(dataset_name='tinyStories')"
      ],
      "metadata": {
        "id": "E7h_EQ39LTsX",
        "trusted": true,
        "execution": {
          "iopub.status.busy": "2025-06-25T21:34:17.767508Z",
          "iopub.execute_input": "2025-06-25T21:34:17.767708Z",
          "iopub.status.idle": "2025-06-25T21:34:18.126310Z",
          "shell.execute_reply.started": "2025-06-25T21:34:17.767691Z",
          "shell.execute_reply": "2025-06-25T21:34:18.125691Z"
        }
      },
      "outputs": [],
      "execution_count": null
    },
    {
      "cell_type": "code",
      "source": [
        "from src.training import train\n",
        "\n",
        "train(train_path, val_path, config_path='./config/config.json', checkpoint='ts_checkpoint.tar')"
      ],
      "metadata": {
        "colab": {
          "base_uri": "https://localhost:8080/"
        },
        "id": "xbB403AbL0tp",
        "outputId": "806bbe36-dc32-46cf-f35b-8064f851e110",
        "trusted": true,
        "execution": {
          "iopub.status.busy": "2025-06-25T21:35:04.730628Z",
          "iopub.execute_input": "2025-06-25T21:35:04.731203Z",
          "iopub.status.idle": "2025-06-26T09:14:57.320807Z",
          "shell.execute_reply.started": "2025-06-25T21:35:04.731175Z",
          "shell.execute_reply": "2025-06-26T09:14:57.320180Z"
        }
      },
      "outputs": [
        {
          "name": "stderr",
          "text": "100%|██████████| 33000/33000 [11:39:50<00:00,  1.27s/it, lr=3.4275e-06, train_loss=1.4231, val_loss=1.3769, val_accuracy=0.64]  \n",
          "output_type": "stream"
        }
      ],
      "execution_count": null
    },
    {
      "cell_type": "code",
      "source": [
        "import json\n",
        "import torch\n",
        "from src.model import TransformerLM\n",
        "from src.tokenizer import Tokenizer\n",
        "from src.training import load_checkpoint\n",
        "\n",
        "\n",
        "with open('config/config.json', 'r') as f:\n",
        "    config = json.load(f)\n",
        "\n",
        "model = TransformerLM(**config['model']).to('cuda')\n",
        "\n",
        "load_checkpoint('ts_checkpoint.tar', model)\n",
        "tokenizer = Tokenizer('tinyStories')"
      ],
      "metadata": {
        "id": "-xo6-L4SMZvX",
        "trusted": true,
        "execution": {
          "iopub.status.busy": "2025-06-26T10:11:23.862210Z",
          "iopub.execute_input": "2025-06-26T10:11:23.862787Z",
          "iopub.status.idle": "2025-06-26T10:11:28.477022Z",
          "shell.execute_reply.started": "2025-06-26T10:11:23.862766Z",
          "shell.execute_reply": "2025-06-26T10:11:28.476457Z"
        }
      },
      "outputs": [],
      "execution_count": 3
    },
    {
      "cell_type": "code",
      "source": [
        "model.generate(prompt=\"Once upon a time\", tokenizer=tokenizer, max_tokens=256, p=0.9, temperature=0.9)\n",
        "print('-'*50)\n",
        "model.generate(prompt=\"One day\", tokenizer=tokenizer, max_tokens=256, p=0.9, temperature=0.9)\n",
        "print('-'*50)\n",
        "model.generate(prompt=\"Once upon a time\", tokenizer=tokenizer, max_tokens=256, p=0.9, temperature=0.9)"
      ],
      "metadata": {
        "trusted": true,
        "execution": {
          "iopub.status.busy": "2025-06-26T10:11:29.087143Z",
          "iopub.execute_input": "2025-06-26T10:11:29.087380Z",
          "iopub.status.idle": "2025-06-26T10:11:31.832666Z",
          "shell.execute_reply.started": "2025-06-26T10:11:29.087364Z",
          "shell.execute_reply": "2025-06-26T10:11:31.832135Z"
        },
        "colab": {
          "base_uri": "https://localhost:8080/"
        },
        "id": "AHE0TukwxNKf",
        "outputId": "4bd7f11a-0f95-43ac-eac6-b87dc4aee4e9"
      },
      "outputs": [
        {
          "output_type": "stream",
          "name": "stdout",
          "text": [
            "Once upon a time, there was a silly dog named Max. Max loved to play with his rubber ball. One day, Max saw a big box in the yard. The box had a big cover on it. Max was very curious about the box.\n",
            "Max's friend, a cat named Luna, came to play. Max wanted to guess what was in the box. He thought it might be a fun toy or a treat. Luna said, \"Max, look at the box! Let's guess what's inside.\"\n",
            "Max and Luna opened the box together. Inside the box, they found lots of fun toys to play with. They played with the toys all day long. Max and Luna were very happy and had a great day together.\n",
            "--------------------------------------------------\n",
            "One day, while Sam was playing, he found a sharp stick on the ground. He thought it would be fun to use the stick to build something with it. Sam was very excited and wanted to build something with the stick. He thought and thought about what to make. Then, he had a great idea!\n",
            "Sam took the sharp stick and used it to build a little house. He used the stick to make walls and a roof for the house. Sam worked very hard on the house. When it was done, he was very happy with his work. He put the house back in the forest and gave it a big hug. From that day on, Sam made sure to keep his house organized and happy with the sharp stick.\n",
            "--------------------------------------------------\n",
            "Once upon a time, there was a famous cat named Tom. Tom was famous because he could bounce very high. All the kids loved to watch him bounce and play.\n",
            "One sunny day, Tom saw a new kid named Max. Max was not famous, but he was very fast. Tom wanted to play with Max, but Max was not as fast. Max was sad because he wanted to bounce like Tom.\n",
            "Tom had an idea. He found a big leaf and put it on Max. Max could bounce high and not far from the other kids. Max was very happy and bounced with Tom. They played together all day and had lots of fun. Tom learned that even if you are famous, you can still have fun with your friends.\n"
          ]
        }
      ],
      "execution_count": 5
    },
    {
      "cell_type": "code",
      "source": [],
      "metadata": {
        "trusted": true,
        "id": "Ibq0udwpxNKg"
      },
      "outputs": [],
      "execution_count": null
    }
  ]
}